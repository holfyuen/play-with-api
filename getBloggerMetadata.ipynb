{
 "cells": [
  {
   "cell_type": "markdown",
   "id": "5ad2b74a-3241-4377-a230-986ec8da27f0",
   "metadata": {},
   "source": [
    "# Get Metadata from Blogger blog\n",
    "This notebook shows how to get metadata for all posts of a blog on Blogger. Please refer to [official Blogger documenation](https://developers.google.com/blogger/docs/3.0/reference?hl=en) for more details.\n",
    "\n",
    "To store your credentials without hardcoding into the code, please create a text file named `.env` with two lines (not included in this repo):\n",
    "> BLOG_ID = [YOUR_BLOG_ID]  \n",
    "> KEY = [YOUR_KEY]\n",
    "\n",
    "Blog id can be found when you login to your own blogger account and choose your blog. The blog id will be shown in the URL. And refer to [this page](https://developers.google.com/blogger/docs/3.0/using) to obtain an API key to get public data."
   ]
  },
  {
   "cell_type": "code",
   "execution_count": 1,
   "id": "8476ce17-dde0-4ff4-b39e-b0a1efb7eb1a",
   "metadata": {},
   "outputs": [],
   "source": [
    "import requests\n",
    "import json\n",
    "import pandas as pd\n",
    "import os\n",
    "from dotenv import load_dotenv\n",
    "\n",
    "load_dotenv()\n",
    "blog_id = os.getenv('blog_id')\n",
    "key = os.getenv('key')"
   ]
  },
  {
   "cell_type": "markdown",
   "id": "4d609e13-c8ea-447f-a8f0-8610c78f1f81",
   "metadata": {},
   "source": [
    "I use my own blog https://ccmusichk.blogspot.com/ as an example. It now has close to 800 articles. If I want to retrieve a list of all article titles and published dates, doing it manually is severely time-consuming so API can help."
   ]
  },
  {
   "cell_type": "code",
   "execution_count": 2,
   "id": "c8acedb5-549b-4c78-9b21-a7543ae8b681",
   "metadata": {},
   "outputs": [
    {
     "name": "stdout",
     "output_type": "stream",
     "text": [
      "{'kind': 'blogger#blog', 'id': '9563690', 'name': '當下音樂', 'description': '給聽得見歷代音樂的這個當下', 'published': '2006-11-18T21:31:20+08:00', 'updated': '2023-12-24T19:55:02+08:00', 'url': 'http://ccmusichk.blogspot.com/', 'selfLink': 'https://www.googleapis.com/blogger/v3/blogs/9563690', 'posts': {'totalItems': 774, 'selfLink': 'https://www.googleapis.com/blogger/v3/blogs/9563690/posts'}, 'pages': {'totalItems': 3, 'selfLink': 'https://www.googleapis.com/blogger/v3/blogs/9563690/pages'}, 'locale': {'language': 'zh', 'country': 'HK', 'variant': ''}}\n"
     ]
    }
   ],
   "source": [
    "request = requests.get(f'https://www.googleapis.com/blogger/v3/blogs/{blog_id}?key={key}')\n",
    "blog_meta = request.json()\n",
    "print(blog_meta)"
   ]
  },
  {
   "cell_type": "code",
   "execution_count": 3,
   "id": "3c94f5b2-a57f-440f-88ab-58a535bb68dd",
   "metadata": {},
   "outputs": [
    {
     "name": "stdout",
     "output_type": "stream",
     "text": [
      "774 2023-12-24T19:55:02+08:00\n"
     ]
    }
   ],
   "source": [
    "post_count = blog_meta['posts']['totalItems']\n",
    "last_date = blog_meta['updated']\n",
    "print(post_count, last_date)"
   ]
  },
  {
   "cell_type": "markdown",
   "id": "a45c960f-8635-4d2a-bbb8-3c0aa03c940c",
   "metadata": {},
   "source": [
    "The following code block creates a dictionary with information about every post, including id, title, published date and url. Due to limits in fetching I fetch 500 results at a time and loop through all posts."
   ]
  },
  {
   "cell_type": "code",
   "execution_count": 4,
   "id": "107daa2a-4718-48a8-82ab-f3fc90a0cf2b",
   "metadata": {},
   "outputs": [],
   "source": [
    "remaining_post = post_count\n",
    "last_date = last_date.replace(':','%3A').replace('+','%2B')\n",
    "data = {'id':[], 'title':[], 'published':[], 'url':[]}\n",
    "while remaining_post > 0:\n",
    "    request = requests.get(f'https://www.googleapis.com/blogger/v3/blogs/{blog_id}/posts?maxResults=500&\\\n",
    "    fetchBodies=false&endDate={last_date}&key={key}')\n",
    "    post_meta = request.json()\n",
    "    for post in post_meta['items']:\n",
    "        data['id'].append(post['id'])\n",
    "        data['title'].append(post['title'])\n",
    "        data['published'].append(post['published'])\n",
    "        data['url'].append(post['url'])\n",
    "    last_date = data['published'][-1]\n",
    "    last_date = last_date.replace(':','%3A').replace('+','%2B')\n",
    "    remaining_post -= 500"
   ]
  },
  {
   "cell_type": "markdown",
   "id": "73569b17-b798-4f2d-88ed-52b676790edd",
   "metadata": {},
   "source": [
    "Then, create a pandas dataframe from the dictionary."
   ]
  },
  {
   "cell_type": "code",
   "execution_count": 5,
   "id": "b5053cd5-04e3-4a62-bc31-7a21807fe0d8",
   "metadata": {},
   "outputs": [
    {
     "data": {
      "text/html": [
       "<div>\n",
       "<style scoped>\n",
       "    .dataframe tbody tr th:only-of-type {\n",
       "        vertical-align: middle;\n",
       "    }\n",
       "\n",
       "    .dataframe tbody tr th {\n",
       "        vertical-align: top;\n",
       "    }\n",
       "\n",
       "    .dataframe thead th {\n",
       "        text-align: right;\n",
       "    }\n",
       "</style>\n",
       "<table border=\"1\" class=\"dataframe\">\n",
       "  <thead>\n",
       "    <tr style=\"text-align: right;\">\n",
       "      <th></th>\n",
       "      <th>id</th>\n",
       "      <th>title</th>\n",
       "      <th>published</th>\n",
       "      <th>url</th>\n",
       "    </tr>\n",
       "  </thead>\n",
       "  <tbody>\n",
       "    <tr>\n",
       "      <th>0</th>\n",
       "      <td>3906862311869223564</td>\n",
       "      <td>當下音樂2023第四季新歌總評</td>\n",
       "      <td>2023-12-24T19:42:00+08:00</td>\n",
       "      <td>http://ccmusichk.blogspot.com/2023/12/2023.html</td>\n",
       "    </tr>\n",
       "    <tr>\n",
       "      <th>1</th>\n",
       "      <td>277184505363206060</td>\n",
       "      <td>楊乃文《Flow》：寶島聽歌雜談</td>\n",
       "      <td>2023-11-01T06:38:00+08:00</td>\n",
       "      <td>http://ccmusichk.blogspot.com/2023/11/flow.html</td>\n",
       "    </tr>\n",
       "    <tr>\n",
       "      <th>2</th>\n",
       "      <td>1528486961508801536</td>\n",
       "      <td>當下音樂2023第三季新歌總評</td>\n",
       "      <td>2023-10-02T05:03:00+08:00</td>\n",
       "      <td>http://ccmusichk.blogspot.com/2023/10/2023.html</td>\n",
       "    </tr>\n",
       "    <tr>\n",
       "      <th>3</th>\n",
       "      <td>4629897493370226472</td>\n",
       "      <td>英倫聽歌雜談(七)：夏日音樂節之BBC Proms</td>\n",
       "      <td>2023-08-19T05:21:00+08:00</td>\n",
       "      <td>http://ccmusichk.blogspot.com/2023/08/bbc-prom...</td>\n",
       "    </tr>\n",
       "    <tr>\n",
       "      <th>4</th>\n",
       "      <td>4916221107640258246</td>\n",
       "      <td>英倫聽歌雜談(六)：夏日音樂節之Glastonbury</td>\n",
       "      <td>2023-08-05T16:15:00+08:00</td>\n",
       "      <td>http://ccmusichk.blogspot.com/2023/08/glastonb...</td>\n",
       "    </tr>\n",
       "    <tr>\n",
       "      <th>5</th>\n",
       "      <td>7986615748428267563</td>\n",
       "      <td>當下音樂2023第二季新歌總評</td>\n",
       "      <td>2023-07-02T00:11:00+08:00</td>\n",
       "      <td>http://ccmusichk.blogspot.com/2023/07/2023.html</td>\n",
       "    </tr>\n",
       "    <tr>\n",
       "      <th>6</th>\n",
       "      <td>4920993640690599734</td>\n",
       "      <td>由聽AI張國榮到訓練AI汪明荃得出的十點啟示</td>\n",
       "      <td>2023-06-21T06:22:00+08:00</td>\n",
       "      <td>http://ccmusichk.blogspot.com/2023/06/aiai.html</td>\n",
       "    </tr>\n",
       "    <tr>\n",
       "      <th>7</th>\n",
       "      <td>603399927818319101</td>\n",
       "      <td>當下音樂2023第一季新歌總評</td>\n",
       "      <td>2023-04-01T19:59:00+08:00</td>\n",
       "      <td>http://ccmusichk.blogspot.com/2023/04/2023.html</td>\n",
       "    </tr>\n",
       "    <tr>\n",
       "      <th>8</th>\n",
       "      <td>1696388303122897021</td>\n",
       "      <td>告五人《帶你飛》：打臉來得太快但不失為一件好事</td>\n",
       "      <td>2023-03-24T05:52:00+08:00</td>\n",
       "      <td>http://ccmusichk.blogspot.com/2023/03/blog-pos...</td>\n",
       "    </tr>\n",
       "    <tr>\n",
       "      <th>9</th>\n",
       "      <td>6431417474549410972</td>\n",
       "      <td>英倫聽歌雜談(五)：從一本一直沒有看完的書談起</td>\n",
       "      <td>2023-02-26T00:54:00+08:00</td>\n",
       "      <td>http://ccmusichk.blogspot.com/2023/02/blog-pos...</td>\n",
       "    </tr>\n",
       "  </tbody>\n",
       "</table>\n",
       "</div>"
      ],
      "text/plain": [
       "                    id                        title  \\\n",
       "0  3906862311869223564              當下音樂2023第四季新歌總評   \n",
       "1   277184505363206060             楊乃文《Flow》：寶島聽歌雜談   \n",
       "2  1528486961508801536              當下音樂2023第三季新歌總評   \n",
       "3  4629897493370226472    英倫聽歌雜談(七)：夏日音樂節之BBC Proms   \n",
       "4  4916221107640258246  英倫聽歌雜談(六)：夏日音樂節之Glastonbury   \n",
       "5  7986615748428267563              當下音樂2023第二季新歌總評   \n",
       "6  4920993640690599734       由聽AI張國榮到訓練AI汪明荃得出的十點啟示   \n",
       "7   603399927818319101              當下音樂2023第一季新歌總評   \n",
       "8  1696388303122897021      告五人《帶你飛》：打臉來得太快但不失為一件好事   \n",
       "9  6431417474549410972      英倫聽歌雜談(五)：從一本一直沒有看完的書談起   \n",
       "\n",
       "                   published  \\\n",
       "0  2023-12-24T19:42:00+08:00   \n",
       "1  2023-11-01T06:38:00+08:00   \n",
       "2  2023-10-02T05:03:00+08:00   \n",
       "3  2023-08-19T05:21:00+08:00   \n",
       "4  2023-08-05T16:15:00+08:00   \n",
       "5  2023-07-02T00:11:00+08:00   \n",
       "6  2023-06-21T06:22:00+08:00   \n",
       "7  2023-04-01T19:59:00+08:00   \n",
       "8  2023-03-24T05:52:00+08:00   \n",
       "9  2023-02-26T00:54:00+08:00   \n",
       "\n",
       "                                                 url  \n",
       "0    http://ccmusichk.blogspot.com/2023/12/2023.html  \n",
       "1    http://ccmusichk.blogspot.com/2023/11/flow.html  \n",
       "2    http://ccmusichk.blogspot.com/2023/10/2023.html  \n",
       "3  http://ccmusichk.blogspot.com/2023/08/bbc-prom...  \n",
       "4  http://ccmusichk.blogspot.com/2023/08/glastonb...  \n",
       "5    http://ccmusichk.blogspot.com/2023/07/2023.html  \n",
       "6    http://ccmusichk.blogspot.com/2023/06/aiai.html  \n",
       "7    http://ccmusichk.blogspot.com/2023/04/2023.html  \n",
       "8  http://ccmusichk.blogspot.com/2023/03/blog-pos...  \n",
       "9  http://ccmusichk.blogspot.com/2023/02/blog-pos...  "
      ]
     },
     "execution_count": 5,
     "metadata": {},
     "output_type": "execute_result"
    }
   ],
   "source": [
    "df = pd.DataFrame.from_dict(data)\n",
    "df.head(10)"
   ]
  },
  {
   "cell_type": "markdown",
   "id": "d61fffaa-048b-4667-a83b-23e5a244b077",
   "metadata": {},
   "source": [
    "[Optional] You can save the dataframe into a csv file for further analysis."
   ]
  },
  {
   "cell_type": "code",
   "execution_count": 6,
   "id": "d435bf7a-8d18-4232-96e6-f79573b19fbd",
   "metadata": {},
   "outputs": [],
   "source": [
    "df.to_csv('ccmusichk_posts.csv', index=False)"
   ]
  }
 ],
 "metadata": {
  "kernelspec": {
   "display_name": "Python 3 (ipykernel)",
   "language": "python",
   "name": "python3"
  },
  "language_info": {
   "codemirror_mode": {
    "name": "ipython",
    "version": 3
   },
   "file_extension": ".py",
   "mimetype": "text/x-python",
   "name": "python",
   "nbconvert_exporter": "python",
   "pygments_lexer": "ipython3",
   "version": "3.9.12"
  }
 },
 "nbformat": 4,
 "nbformat_minor": 5
}
